{
 "cells": [
  {
   "cell_type": "markdown",
   "metadata": {},
   "source": [
    "Build a regression model."
   ]
  },
  {
   "cell_type": "code",
   "execution_count": 3,
   "metadata": {
    "tags": []
   },
   "outputs": [
    {
     "name": "stdout",
     "output_type": "stream",
     "text": [
      "                            OLS Regression Results                            \n",
      "==============================================================================\n",
      "Dep. Variable:        Available Bikes   R-squared:                       0.029\n",
      "Model:                            OLS   Adj. R-squared:                 -0.022\n",
      "Method:                 Least Squares   F-statistic:                    0.5606\n",
      "Date:                Mon, 03 Jul 2023   Prob (F-statistic):              0.576\n",
      "Time:                        06:18:41   Log-Likelihood:                -89.042\n",
      "No. Observations:                  41   AIC:                             184.1\n",
      "Df Residuals:                      38   BIC:                             189.2\n",
      "Df Model:                           2                                         \n",
      "Covariance Type:            nonrobust                                         \n",
      "============================================================================================\n",
      "                               coef    std err          t      P>|t|      [0.025      0.975]\n",
      "--------------------------------------------------------------------------------------------\n",
      "const                        4.6623      2.060      2.263      0.029       0.492       8.832\n",
      "Bars Count                  -0.1560      0.166     -0.942      0.352      -0.491       0.179\n",
      "Average Distance to Bars    -0.0013      0.002     -0.613      0.543      -0.006       0.003\n",
      "==============================================================================\n",
      "Omnibus:                        5.054   Durbin-Watson:                   1.674\n",
      "Prob(Omnibus):                  0.080   Jarque-Bera (JB):                4.738\n",
      "Skew:                           0.826   Prob(JB):                       0.0936\n",
      "Kurtosis:                       2.793   Cond. No.                     2.76e+03\n",
      "==============================================================================\n",
      "\n",
      "Notes:\n",
      "[1] Standard Errors assume that the covariance matrix of the errors is correctly specified.\n",
      "[2] The condition number is large, 2.76e+03. This might indicate that there are\n",
      "strong multicollinearity or other numerical problems.\n"
     ]
    }
   ],
   "source": [
    "import pandas as pd\n",
    "import statsmodels.api as sm\n",
    "\n",
    "df = pd.read_csv('new_result.csv')\n",
    "\n",
    "X = df[['Bars Count', 'Average Distance to Bars']]\n",
    "y = df['Available Bikes']\n",
    "\n",
    "X = sm.add_constant(X)\n",
    "\n",
    "model = sm.OLS(y, X)\n",
    "results = model.fit()\n",
    "\n",
    "print(results.summary())"
   ]
  },
  {
   "cell_type": "markdown",
   "metadata": {},
   "source": [
    "Provide model output and an interpretation of the results. "
   ]
  },
  {
   "cell_type": "markdown",
   "metadata": {},
   "source": [
    "##### 1. Coefficient (coef): The coefficient for \"Bars Count\" is -0.156, which means that when the number of bars increases by 1, the number of available bikes is expected to decrease by 0.156. Similarly, the coefficient for \"Average Distance to Bars\" is -0.0013, which means that when the average distance to bars increases by 1m, the number of available bicycles is expected to decrease by 0.0013.\n",
    "##### 2. P-value (P>|t|): The P-values of \"Bars Count\" and \"Average Distance to Bars\" are 0.352 and 0.543 respectively, both of which are greater than 0.05, so I cannot reject the null hypothesis (that is, the two feature variable has no effect on the number of bicycles available). This means that my model did not find a significant relationship between these two feature variables and the number of bicycles available.\n",
    "##### 3. R-squared: The R-squared value is 0.029, which means that your model only explains 2.9% of the variance in the number of bicycles available. This is a very low value, indicating that my model is not fitting the data well"
   ]
  },
  {
   "cell_type": "markdown",
   "metadata": {},
   "source": [
    "# Stretch"
   ]
  },
  {
   "cell_type": "markdown",
   "metadata": {},
   "source": [
    "How can you turn the regression model into a classification model?"
   ]
  },
  {
   "cell_type": "markdown",
   "metadata": {},
   "source": [
    "##### Converting the regression problem to a classification one involves changing the target variable from a continuous one to a categorical one.\n",
    "\n",
    "##### In the context of this dataset, I could turn 'Available Bikes' (which is a continuous variable) into a binary categorical variable. For instance, introduce a threshold (let's say 5 bikes) and create a new binary variable where 1 indicates that there are more than 5 bikes available, and 0 indicates that there are 5 or fewer bikes available."
   ]
  },
  {
   "cell_type": "code",
   "execution_count": 6,
   "metadata": {
    "tags": []
   },
   "outputs": [],
   "source": [
    "df['Bike Availability'] = df['Available Bikes'].apply(lambda x: 1 if x > 5 else 0)"
   ]
  }
 ],
 "metadata": {
  "kernelspec": {
   "display_name": "Python 3 (ipykernel)",
   "language": "python",
   "name": "python3"
  },
  "language_info": {
   "codemirror_mode": {
    "name": "ipython",
    "version": 3
   },
   "file_extension": ".py",
   "mimetype": "text/x-python",
   "name": "python",
   "nbconvert_exporter": "python",
   "pygments_lexer": "ipython3",
   "version": "3.10.9"
  }
 },
 "nbformat": 4,
 "nbformat_minor": 4
}
